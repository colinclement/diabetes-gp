{
 "cells": [
  {
   "cell_type": "code",
   "execution_count": 63,
   "metadata": {
    "collapsed": true
   },
   "outputs": [],
   "source": [
    "import numpy as np\n",
    "import os\n",
    "from datetime import datetime\n",
    "from subprocess import call\n",
    "import matplotlib.pyplot as plt\n",
    "%matplotlib inline"
   ]
  },
  {
   "cell_type": "markdown",
   "metadata": {},
   "source": [
    "## Load UCI Diabetes data set"
   ]
  },
  {
   "cell_type": "code",
   "execution_count": 44,
   "metadata": {
    "collapsed": false
   },
   "outputs": [],
   "source": [
    "datadir = 'Diabetes-Data/'\n",
    "dd = list(os.walk(datadir))\n",
    "if not dd: #Download and unpack data if it doesn't exist\n",
    "    call(['../dldata'])\n",
    "    dd = list(os.walk(datadir))\n",
    "datafilenames = [os.path.join(datadir, fp) for fp in dd[0][2] if 'data' in fp]"
   ]
  },
  {
   "cell_type": "code",
   "execution_count": 47,
   "metadata": {
    "collapsed": false
   },
   "outputs": [],
   "source": [
    "codesfilename = os.path.join(datadir, 'Data-Codes')"
   ]
  },
  {
   "cell_type": "code",
   "execution_count": 49,
   "metadata": {
    "collapsed": false
   },
   "outputs": [
    {
     "name": "stdout",
     "output_type": "stream",
     "text": [
      "Diabetes patient records were obtained from two sources:  an automatic\n",
      "\n",
      "electronic recording device and paper records.  The automatic device\n",
      "\n",
      "had an internal clock to timestamp events, whereas the paper records\n",
      "\n",
      "only provided \"logical time\" slots (breakfast, lunch, dinner,\n",
      "\n",
      "bedtime).  For paper records, fixed times were assigned to breakfast\n",
      "\n",
      "(08:00), lunch (12:00), dinner (18:00), and bedtime (22:00).  Thus\n",
      "\n",
      "paper records have fictitious uniform recording times whereas\n",
      "\n",
      "electronic records have more realistic time stamps.\n",
      "\n",
      "\n",
      "\n",
      "Diabetes files consist of four fields per record.  Each field is\n",
      "\n",
      "separated by a tab and each record is separated by a newline.\n",
      "\n",
      "\n",
      "\n",
      "File Names and format:\n",
      "\n",
      "(1) Date in MM-DD-YYYY format\n",
      "\n",
      "(2) Time in XX:YY format\n",
      "\n",
      "(3) Code\n",
      "\n",
      "(4) Value\n",
      "\n",
      "\n",
      "\n",
      "The Code field is deciphered as follows:\n",
      "\n",
      "\n",
      "\n",
      "33 = Regular insulin dose\n",
      "\n",
      "34 = NPH insulin dose\n",
      "\n",
      "35 = UltraLente insulin dose\n",
      "\n",
      "48 = Unspecified blood glucose measurement\n",
      "\n",
      "57 = Unspecified blood glucose measurement\n",
      "\n",
      "58 = Pre-breakfast blood glucose measurement\n",
      "\n",
      "59 = Post-breakfast blood glucose measurement\n",
      "\n",
      "60 = Pre-lunch blood glucose measurement\n",
      "\n",
      "61 = Post-lunch blood glucose measurement\n",
      "\n",
      "62 = Pre-supper blood glucose measurement\n",
      "\n",
      "63 = Post-supper blood glucose measurement\n",
      "\n",
      "64 = Pre-snack blood glucose measurement\n",
      "\n",
      "65 = Hypoglycemic symptoms\n",
      "\n",
      "66 = Typical meal ingestion\n",
      "\n",
      "67 = More-than-usual meal ingestion\n",
      "\n",
      "68 = Less-than-usual meal ingestion\n",
      "\n",
      "69 = Typical exercise activity\n",
      "\n",
      "70 = More-than-usual exercise activity\n",
      "\n",
      "71 = Less-than-usual exercise activity\n",
      "\n",
      "72 = Unspecified special event\n",
      "\n",
      "\n",
      "\n",
      "\n",
      "\n",
      "Questions regarding the format of the diabetes data files can be sent\n",
      "\n",
      "to kahn@informatics.WUSTL.EDU (Internet) or 70333,34 (CompuServe).  Be\n",
      "\n",
      "forwarned, I'm not very good at remembering to check Compuserve.\n",
      "\n"
     ]
    }
   ],
   "source": [
    "with open(codesfilename, 'r') as infile:\n",
    "    for l in infile:\n",
    "        print l"
   ]
  },
  {
   "cell_type": "code",
   "execution_count": 104,
   "metadata": {
    "collapsed": true
   },
   "outputs": [],
   "source": [
    "glucose_measurements = [48, 57, 58, 59, 60, 61, 62, 63, 64]"
   ]
  },
  {
   "cell_type": "markdown",
   "metadata": {},
   "source": [
    "## Function for loading data"
   ]
  },
  {
   "cell_type": "code",
   "execution_count": 155,
   "metadata": {
    "collapsed": true
   },
   "outputs": [],
   "source": [
    "convstrlist = lambda s: datetime.strptime(s[0]+' '+s[1], '%m-%d-%Y %H:%M')\n",
    "convdata = lambda l: [convstrlist(l), int(l[2]), int(l[3])]\n",
    "\n",
    "def load_ddata(filename):\n",
    "    datalist = []\n",
    "    with open(filename, 'r') as infile:\n",
    "        for l in infile:\n",
    "            if not 'Hi' in l and not 'Lo' in l and '.'  not in l: #Throw away '0Hi'/'0Lo' values for now\n",
    "                datalist += [convdata(l.split())]\n",
    "    return datalist"
   ]
  },
  {
   "cell_type": "code",
   "execution_count": 199,
   "metadata": {
    "collapsed": false
   },
   "outputs": [
    {
     "data": {
      "text/plain": [
       "(14, 28)"
      ]
     },
     "execution_count": 199,
     "metadata": {},
     "output_type": "execute_result"
    },
    {
     "data": {
      "image/png": "[encoded data removed]",
      "text/plain": [
       "<matplotlib.figure.Figure at 0x7f89c278fb50>"
      ]
     },
     "metadata": {},
     "output_type": "display_data"
    }
   ],
   "source": [
    "datalist = load_ddata(datafilenames[65])\n",
    "measurements = np.array([d for d in datalist if d[1] in glucose_measurements])\n",
    "days = np.array(map(lambda dt: dt.days, measurements[:,0] - measurements[0,0]))\n",
    "plt.plot(days, measurements[:,2], '.')\n",
    "plt.ylabel('Glucose levels (mg/dL)', fontsize=16)\n",
    "plt.xlabel('Days', fontsize=16)\n",
    "for w in np.arange(0, days.max(), 2*7):\n",
    "    plt.axvline(w, c='k', lw = 1, alpha = 0.2)\n",
    "plt.xlim([14,28])"
   ]
  },
  {
   "cell_type": "code",
   "execution_count": null,
   "metadata": {
    "collapsed": true
   },
   "outputs": [],
   "source": []
  }
 ],
 "metadata": {
  "kernelspec": {
   "display_name": "Python 2",
   "language": "python",
   "name": "python2"
  },
  "language_info": {
   "codemirror_mode": {
    "name": "ipython",
    "version": 2
   },
   "file_extension": ".py",
   "mimetype": "text/x-python",
   "name": "python",
   "nbconvert_exporter": "python",
   "pygments_lexer": "ipython2",
   "version": "2.7.11"
  }
 },
 "nbformat": 4,
 "nbformat_minor": 0
}
